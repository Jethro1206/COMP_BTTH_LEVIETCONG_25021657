{
  "nbformat": 4,
  "nbformat_minor": 0,
  "metadata": {
    "colab": {
      "provenance": []
    },
    "kernelspec": {
      "name": "python3",
      "display_name": "Python 3"
    },
    "language_info": {
      "name": "python"
    }
  },
  "cells": [
    {
      "cell_type": "code",
      "source": [
        "#1\n",
        "\n",
        "n = int(input())\n",
        "\n",
        "ans = 0\n",
        "i = 1\n",
        "while i <= n:\n",
        "  ans += i\n",
        "  i += 1\n",
        "\n",
        "print(ans)"
      ],
      "metadata": {
        "colab": {
          "base_uri": "https://localhost:8080/"
        },
        "id": "PV86YsrEFsli",
        "outputId": "01b483bc-7223-4aab-94a5-336bef45de20"
      },
      "execution_count": 14,
      "outputs": [
        {
          "output_type": "stream",
          "name": "stdout",
          "text": [
            "2\n",
            "3\n"
          ]
        }
      ]
    },
    {
      "cell_type": "code",
      "source": [
        "#2\n",
        "n = int(input())\n",
        "if n < 2:\n",
        "  print(\"False\")\n",
        "  exit(0)\n",
        "if n == 2:\n",
        "  print(\"True\")\n",
        "  exit(0)\n",
        "cnt = 0\n",
        "for i in range(1, n + 1):\n",
        "  if n % i == 0:\n",
        "    cnt += 1\n",
        "\n",
        "if cnt == 2:\n",
        "  print(\"True\")\n",
        "else:\n",
        "  print(\"False\")"
      ],
      "metadata": {
        "colab": {
          "base_uri": "https://localhost:8080/"
        },
        "id": "Y7NH7IR7IdUh",
        "outputId": "145a1a1c-fa87-484a-b7dd-6402ebffb9fe"
      },
      "execution_count": 32,
      "outputs": [
        {
          "output_type": "stream",
          "name": "stdout",
          "text": [
            "2\n",
            "True\n",
            "True\n"
          ]
        }
      ]
    },
    {
      "cell_type": "code",
      "source": [
        "#3\n",
        "n = int(input())\n",
        "ans = 1\n",
        "i = 1\n",
        "while i <= n:\n",
        "  ans *= i\n",
        "  i += 1\n",
        "print(ans)"
      ],
      "metadata": {
        "colab": {
          "base_uri": "https://localhost:8080/"
        },
        "id": "WaPGtgOILLHF",
        "outputId": "c15791d2-146b-433f-caf5-3f187bd40ceb"
      },
      "execution_count": 4,
      "outputs": [
        {
          "output_type": "stream",
          "name": "stdout",
          "text": [
            "4\n",
            "24\n"
          ]
        }
      ]
    },
    {
      "cell_type": "code",
      "source": [
        "#4\n",
        "a = input()\n",
        "cnt = 0\n",
        "for i in a:\n",
        "  if i >= \"0\" and i <= \"9\":\n",
        "    cnt += 1\n",
        "print(cnt)"
      ],
      "metadata": {
        "colab": {
          "base_uri": "https://localhost:8080/"
        },
        "id": "UeaxIvACLUO3",
        "outputId": "346388f2-7062-46c1-e95e-03b23d158106"
      },
      "execution_count": 5,
      "outputs": [
        {
          "output_type": "stream",
          "name": "stdout",
          "text": [
            "-4234\n",
            "4\n"
          ]
        }
      ]
    },
    {
      "cell_type": "code",
      "source": [
        "#5\n",
        "n = int(input())\n",
        "ls = list(map(int, input().split()))\n",
        "\n",
        "if 42 in ls:\n",
        "  print(\"I've found the meaning of life\")\n",
        "else:\n",
        "  print(\"It's a joke\")"
      ],
      "metadata": {
        "colab": {
          "base_uri": "https://localhost:8080/"
        },
        "id": "IPozfaWILdOO",
        "outputId": "82a06e5f-b973-43fe-b597-497d025ebd49"
      },
      "execution_count": 17,
      "outputs": [
        {
          "output_type": "stream",
          "name": "stdout",
          "text": [
            "5 \n",
            "42 2 3 4\n",
            "I've found the meaning of life\n"
          ]
        }
      ]
    },
    {
      "cell_type": "code",
      "source": [
        "#6\n",
        "a, b = map(int, input().split())\n",
        "ans = 0\n",
        "for i in range(a, b + 1):\n",
        "  if i < 2:\n",
        "    continue\n",
        "  if i == 2:\n",
        "    ans += i\n",
        "    continue\n",
        "\n",
        "  b = 0\n",
        "  for j in range(1, i + 1):\n",
        "    if i % j == 0:\n",
        "      b += 1\n",
        "\n",
        "  if b == 2:\n",
        "    ans += i\n",
        "\n",
        "print(ans)\n"
      ],
      "metadata": {
        "colab": {
          "base_uri": "https://localhost:8080/"
        },
        "id": "EK6uqiJWNJq7",
        "outputId": "dad4a425-55b7-491e-f643-53bc303df0ca"
      },
      "execution_count": 29,
      "outputs": [
        {
          "output_type": "stream",
          "name": "stdout",
          "text": [
            "2 10\n",
            "17\n"
          ]
        }
      ]
    },
    {
      "cell_type": "code",
      "source": [
        "#7\n",
        "\n",
        "n = int(input())\n",
        "i = 2\n",
        "while i * i <= n:\n",
        "    if n % i == 0:\n",
        "        n //= i\n",
        "    else:\n",
        "        i += 1\n",
        "print(n)\n"
      ],
      "metadata": {
        "colab": {
          "base_uri": "https://localhost:8080/"
        },
        "id": "5s1qGgM4PC-u",
        "outputId": "524fd7c4-18bf-4008-9daa-22f9e913309a"
      },
      "execution_count": 2,
      "outputs": [
        {
          "output_type": "stream",
          "name": "stdout",
          "text": [
            "64\n",
            "2\n"
          ]
        }
      ]
    },
    {
      "cell_type": "code",
      "source": [
        "#8\n",
        "def ip(n):\n",
        "    return str(n) == str(n)[::-1]\n",
        "n = int(input())\n",
        "steps = 0\n",
        "while not ip(n):\n",
        "    n = n + int(str(n)[::-1])\n",
        "    steps += 1\n",
        "print(f\"{steps} {n}\")"
      ],
      "metadata": {
        "colab": {
          "base_uri": "https://localhost:8080/"
        },
        "id": "wYWn_PVVPejZ",
        "outputId": "a05030f4-b74d-4696-f4f7-42d05e40ccad"
      },
      "execution_count": 6,
      "outputs": [
        {
          "output_type": "stream",
          "name": "stdout",
          "text": [
            "195\n",
            "4 9339\n"
          ]
        }
      ]
    },
    {
      "cell_type": "code",
      "source": [
        "#9\n",
        "n = int(input())\n",
        "result = []\n",
        "i = 1\n",
        "while i * i <= n:\n",
        "    if len(set(str(i * i))) == len(str(i * i)):\n",
        "        result.append(i * i)\n",
        "    i += 1\n",
        "if not result:\n",
        "    print(\"no number\")\n",
        "else:\n",
        "    print(*result)"
      ],
      "metadata": {
        "colab": {
          "base_uri": "https://localhost:8080/"
        },
        "id": "jLFm-TcRP8hY",
        "outputId": "3c83e150-08f6-4a5c-ea2c-77e82c4cd0f4"
      },
      "execution_count": 10,
      "outputs": [
        {
          "output_type": "stream",
          "name": "stdout",
          "text": [
            "100\n",
            "1 4 9 16 25 36 49 64 81\n"
          ]
        }
      ]
    },
    {
      "cell_type": "code",
      "source": [
        "#10\n",
        "def check(n):\n",
        "    if n == 1:\n",
        "        return 1\n",
        "    if n % 2 == 0:\n",
        "        return 1 + check(n // 2)\n",
        "    else:\n",
        "        return 1 + check(3 * n + 1)\n",
        "n = int(input())\n",
        "m_len = 0\n",
        "m_sum = 0\n",
        "for i in range(1, n + 1):\n",
        "    length = check(i)\n",
        "    if length > m_len:\n",
        "        m_len = length\n",
        "        m_sum = i\n",
        "print(f\"{m_sum} {m_len}\")"
      ],
      "metadata": {
        "colab": {
          "base_uri": "https://localhost:8080/"
        },
        "id": "WdXO2yvqQY9b",
        "outputId": "0d0193c1-ee61-4a81-e75a-ebb8b6968c2c"
      },
      "execution_count": 13,
      "outputs": [
        {
          "output_type": "stream",
          "name": "stdout",
          "text": [
            "10\n",
            "9 20\n"
          ]
        }
      ]
    },
    {
      "cell_type": "code",
      "source": [
        "#11\n",
        "def count_divisor(n):\n",
        "  cnt = 0\n",
        "  for i in range(1, n + 1):\n",
        "    if n % i == 0 and i % 2 == 0:\n",
        "      cnt += 1\n",
        "  return cnt\n",
        "\n",
        "a = int(input())\n",
        "print(count_divisor(a))\n"
      ],
      "metadata": {
        "colab": {
          "base_uri": "https://localhost:8080/"
        },
        "id": "rD-zQ6crFaV1",
        "outputId": "4e9a1cc5-9d06-46c8-c7f7-9348a316c2f4"
      },
      "execution_count": 53,
      "outputs": [
        {
          "output_type": "stream",
          "name": "stdout",
          "text": [
            "10024\n",
            "12\n"
          ]
        }
      ]
    },
    {
      "cell_type": "code",
      "source": [
        "#12\n",
        "x, n = map(int, input().split())\n",
        "r = 0.007\n",
        "t = x * (1 + r) ** n\n",
        "print(int(t))"
      ],
      "metadata": {
        "colab": {
          "base_uri": "https://localhost:8080/"
        },
        "id": "SQeJgqsZFviu",
        "outputId": "4ecd5794-65e9-4eba-eb27-efebc6174077"
      },
      "execution_count": 14,
      "outputs": [
        {
          "output_type": "stream",
          "name": "stdout",
          "text": [
            "1000 12\n",
            "1087\n"
          ]
        }
      ]
    },
    {
      "cell_type": "code",
      "source": [
        "#13\n",
        "def count_divisor(n):\n",
        "  cnt = 0\n",
        "  for i in range(1, n):\n",
        "    if n % i == 0:\n",
        "      cnt += i\n",
        "  return cnt\n",
        "\n",
        "a, b = map(int, input().split())\n",
        "if count_divisor(a) == b and count_divisor(b) == a:\n",
        "  print(\"true\")\n",
        "else:\n",
        "  print(\"false\")\n"
      ],
      "metadata": {
        "colab": {
          "base_uri": "https://localhost:8080/"
        },
        "id": "Xki17mjcE1ol",
        "outputId": "43cce829-7308-4f68-a162-6efd21cc3121"
      },
      "execution_count": 50,
      "outputs": [
        {
          "output_type": "stream",
          "name": "stdout",
          "text": [
            "10 7\n",
            "false\n"
          ]
        }
      ]
    },
    {
      "cell_type": "code",
      "source": [
        "#14\n",
        "import math\n",
        "\n",
        "a, b = map(int, input().split())\n",
        "lcm_ = (a * b) // math.gcd(a, b)\n",
        "\n",
        "for i in range(1, lcm_ + 1):\n",
        "  if i <= min(a, b) and lcm_ % i == 0:\n",
        "    print(i, end = \" \")\n"
      ],
      "metadata": {
        "id": "LPuLyvNqEqo8"
      },
      "execution_count": null,
      "outputs": []
    },
    {
      "cell_type": "code",
      "source": [
        "#15\n",
        "\n",
        "a, b = map(int, input().split())\n",
        "# x + y = a\n",
        "# 2x + 4y = b\n",
        "# x = (b - 4y)/2\n",
        "# x = (b - 4(a - x)) / 2\n",
        "# x = (b - 4a + 4x)/2\n",
        "# 2x = b - 4a + 4x\n",
        "# -2x = b - 4a\n",
        "# x = -(b - 4a) / 2\n",
        "# y = a - x\n",
        "\n",
        "x = -(b - 4 * a)\n",
        "if x % 2 != 0:\n",
        "  print(\"invalid\")\n",
        "else:\n",
        "  print(x // 2, end = \" \")\n",
        "  print(a - x // 2)\n"
      ],
      "metadata": {
        "colab": {
          "base_uri": "https://localhost:8080/"
        },
        "id": "LRXli9eLDC_-",
        "outputId": "b7f9d35b-8e37-4da7-a615-d3334a3d4307"
      },
      "execution_count": 45,
      "outputs": [
        {
          "output_type": "stream",
          "name": "stdout",
          "text": [
            "52 117\n",
            "invalid\n"
          ]
        }
      ]
    },
    {
      "cell_type": "code",
      "source": [
        "#16\n",
        "\n",
        "for i in range(101):\n",
        "  if i % 2 == 0 and i % 3 == 0:\n",
        "    print(i, end = \" \")\n"
      ],
      "metadata": {
        "colab": {
          "base_uri": "https://localhost:8080/"
        },
        "id": "VmOTwqa1C4-A",
        "outputId": "2868bc36-847a-4958-953a-4911c52f2166"
      },
      "execution_count": 40,
      "outputs": [
        {
          "output_type": "stream",
          "name": "stdout",
          "text": [
            "0 6 12 18 24 30 36 42 48 54 60 66 72 78 84 90 96 "
          ]
        }
      ]
    },
    {
      "cell_type": "code",
      "source": [
        "#17\n",
        "\n",
        "a = int(input())\n",
        "\n",
        "for i in range(10):\n",
        "  t = a * i\n",
        "  print(f\"{a} * {i} = {t}\")\n"
      ],
      "metadata": {
        "colab": {
          "base_uri": "https://localhost:8080/"
        },
        "id": "fAfSLkfjCpim",
        "outputId": "e06b18ad-a6e5-46f8-c07e-c996ed63b2ab"
      },
      "execution_count": 39,
      "outputs": [
        {
          "output_type": "stream",
          "name": "stdout",
          "text": [
            "5\n",
            "5 * 0 = 0\n",
            "5 * 1 = 5\n",
            "5 * 2 = 10\n",
            "5 * 3 = 15\n",
            "5 * 4 = 20\n",
            "5 * 5 = 25\n",
            "5 * 6 = 30\n",
            "5 * 7 = 35\n",
            "5 * 8 = 40\n",
            "5 * 9 = 45\n"
          ]
        }
      ]
    },
    {
      "cell_type": "code",
      "source": [
        "#18\n",
        "import math\n",
        "\n",
        "a, b = map(int, input().split())\n",
        "lcm_ = (a * b) // math.gcd(a, b)\n",
        "\n",
        "for i in range(1, lcm_ + 1):\n",
        "  if i <= min(a, b) and lcm_ % i == 0:\n",
        "    print(i, end = \" \")\n"
      ],
      "metadata": {
        "colab": {
          "base_uri": "https://localhost:8080/"
        },
        "id": "1inv-vgUBqWx",
        "outputId": "ce3e5849-b998-44d3-e648-3e5802b76528"
      },
      "execution_count": 38,
      "outputs": [
        {
          "output_type": "stream",
          "name": "stdout",
          "text": [
            "25 25\n",
            "1 5 25 "
          ]
        }
      ]
    },
    {
      "cell_type": "code",
      "source": [
        "#19\n",
        "n = int(input())\n",
        "\n",
        "for i in range(2, n + 1):\n",
        "  if i % 2 == 0:\n",
        "    print(i, end = \" \")"
      ],
      "metadata": {
        "colab": {
          "base_uri": "https://localhost:8080/"
        },
        "id": "9aV2L-6aBZ4c",
        "outputId": "528ebb75-e77d-48bb-fd12-5ed221342e75"
      },
      "execution_count": 25,
      "outputs": [
        {
          "output_type": "stream",
          "name": "stdout",
          "text": [
            "8\n",
            "2 4 6 8 "
          ]
        }
      ]
    },
    {
      "cell_type": "code",
      "source": [
        "#20\n",
        "n = float(input())\n",
        "\n",
        "while n > 1:\n",
        "  n /= 2\n",
        "if n == int(n):\n",
        "  print(\"YES\")\n",
        "else:\n",
        "  print(\"NO\")"
      ],
      "metadata": {
        "colab": {
          "base_uri": "https://localhost:8080/"
        },
        "id": "NpIddFiWBKKa",
        "outputId": "57fd0cc5-6169-4958-f13f-e03396b95292"
      },
      "execution_count": 21,
      "outputs": [
        {
          "output_type": "stream",
          "name": "stdout",
          "text": [
            "1023\n",
            "NO\n"
          ]
        }
      ]
    },
    {
      "cell_type": "code",
      "source": [
        "#21\n",
        "n = input()\n",
        "ans = 0\n",
        "\n",
        "for i in n:\n",
        "  ans += int(i)\n",
        "\n",
        "print(ans)"
      ],
      "metadata": {
        "colab": {
          "base_uri": "https://localhost:8080/"
        },
        "id": "9rPO8d72BFLU",
        "outputId": "6e12cb1e-b861-43bc-8661-30608d180d86"
      },
      "execution_count": 16,
      "outputs": [
        {
          "output_type": "stream",
          "name": "stdout",
          "text": [
            "2134\n",
            "10\n"
          ]
        }
      ]
    },
    {
      "cell_type": "code",
      "source": [
        "#22\n",
        "n = input()\n",
        "even = 0\n",
        "odd = 0\n",
        "\n",
        "for i in n:\n",
        "  if int(i) % 2 == 0:\n",
        "    even += 1\n",
        "  else:\n",
        "    odd += 1\n",
        "\n",
        "print(f\"{even} {odd}\")"
      ],
      "metadata": {
        "colab": {
          "base_uri": "https://localhost:8080/"
        },
        "id": "xhoQHHmRA0jb",
        "outputId": "f203302a-74e4-4fd0-f0a4-221c9f21db6a"
      },
      "execution_count": 15,
      "outputs": [
        {
          "output_type": "stream",
          "name": "stdout",
          "text": [
            "213\n",
            "1 2\n"
          ]
        }
      ]
    },
    {
      "cell_type": "code",
      "source": [
        "#23\n",
        "A = int(input())\n",
        "s = 0\n",
        "n = 1\n",
        "while s < A:\n",
        "  s += n\n",
        "  n += 1\n",
        "\n",
        "# 1 2 3 4\n",
        "print(n - 2)"
      ],
      "metadata": {
        "colab": {
          "base_uri": "https://localhost:8080/"
        },
        "id": "2QJFPNbS_l8Y",
        "outputId": "1020819c-a576-417d-fd4c-ddeb0924ff94"
      },
      "execution_count": 14,
      "outputs": [
        {
          "output_type": "stream",
          "name": "stdout",
          "text": [
            "3\n",
            "1\n"
          ]
        }
      ]
    },
    {
      "cell_type": "code",
      "source": [],
      "metadata": {
        "id": "3-kY8CG_Am1V"
      },
      "execution_count": null,
      "outputs": []
    },
    {
      "cell_type": "code",
      "source": [
        "#24\n",
        "A = int(input())\n",
        "s = 0\n",
        "n = 1\n",
        "while s <= A:\n",
        "  s += 1 / n\n",
        "  n += 1\n",
        "print(n - 1)"
      ],
      "metadata": {
        "colab": {
          "base_uri": "https://localhost:8080/"
        },
        "id": "eMbL0yHT_O-h",
        "outputId": "62d6bdd1-48db-42d5-ee50-7596e9f7f986"
      },
      "execution_count": 7,
      "outputs": [
        {
          "output_type": "stream",
          "name": "stdout",
          "text": [
            "7\n",
            "617\n"
          ]
        }
      ]
    },
    {
      "cell_type": "code",
      "source": [
        "#25\n",
        "n = 0\n",
        "maximum = int(-1e18)\n",
        "minimum = int(1e18)\n",
        "\n",
        "n = int(input())\n",
        "\n",
        "if n != -1:\n",
        "    maximum = n\n",
        "    minimum = n\n",
        "\n",
        "while (n != -1):\n",
        "  n = int(input())\n",
        "  if n != -1:\n",
        "      maximum = max(maximum, n)\n",
        "      minimum = min(minimum, n)\n",
        "\n",
        "print(maximum)\n",
        "print(minimum)"
      ],
      "metadata": {
        "colab": {
          "base_uri": "https://localhost:8080/"
        },
        "id": "2JgUrHuK9m4W",
        "outputId": "08aff61f-3113-4ab7-bdbb-ab8f1a302bb8"
      },
      "execution_count": 1,
      "outputs": [
        {
          "output_type": "stream",
          "name": "stdout",
          "text": [
            "2\n",
            "3\n",
            "-1\n",
            "3\n",
            "2\n"
          ]
        }
      ]
    },
    {
      "cell_type": "code",
      "execution_count": 6,
      "metadata": {
        "colab": {
          "base_uri": "https://localhost:8080/"
        },
        "id": "4rB7gaHr2rce",
        "outputId": "04247139-95eb-4855-af66-bd899b7b7220"
      },
      "outputs": [
        {
          "output_type": "stream",
          "name": "stdout",
          "text": [
            "5\n",
            "5\n"
          ]
        }
      ],
      "source": [
        "#26\n",
        "n = int(input())\n",
        "\n",
        "x = 1\n",
        "y = 1\n",
        "z = 2\n",
        "\n",
        "while x + y <= n:\n",
        "    z = x + y\n",
        "    x, y = y, z\n",
        "print(z)\n",
        ""
      ]
    },
    {
      "cell_type": "code",
      "source": [
        "#27\n",
        "n = input()\n",
        "cnt = 0\n",
        "\n",
        "for i in n:\n",
        "  if i == \" \":\n",
        "    cnt += 1\n",
        "print(cnt + 1)"
      ],
      "metadata": {
        "colab": {
          "base_uri": "https://localhost:8080/"
        },
        "id": "0TC7y9Xs3eh_",
        "outputId": "912f08a9-63c4-408a-f12f-1ddf50d3fe5e"
      },
      "execution_count": 8,
      "outputs": [
        {
          "output_type": "stream",
          "name": "stdout",
          "text": [
            "um ba la\n",
            "3\n"
          ]
        }
      ]
    },
    {
      "cell_type": "code",
      "source": [
        "#28\n",
        "n = input()\n",
        "ans = \"\"\n",
        "\n",
        "for i in n:\n",
        "  if i == \" \":\n",
        "    print(ans)\n",
        "    break\n",
        "  ans += i"
      ],
      "metadata": {
        "colab": {
          "base_uri": "https://localhost:8080/"
        },
        "id": "EA92Luny3uk1",
        "outputId": "0ad2543c-6fc1-4c94-f29c-d29c0e5c13d8"
      },
      "execution_count": 2,
      "outputs": [
        {
          "output_type": "stream",
          "name": "stdout",
          "text": [
            "oh mai got\n",
            "oh\n"
          ]
        }
      ]
    },
    {
      "cell_type": "code",
      "source": [
        "#29\n",
        "a, b, c = map(int, input().split())\n",
        "print(a + b + c)"
      ],
      "metadata": {
        "colab": {
          "base_uri": "https://localhost:8080/"
        },
        "id": "ORUBNT7E4DZw",
        "outputId": "e609b04f-140f-4b54-eb71-2a847de2b85b"
      },
      "execution_count": 3,
      "outputs": [
        {
          "output_type": "stream",
          "name": "stdout",
          "text": [
            "3 12 15\n",
            "30\n"
          ]
        }
      ]
    },
    {
      "cell_type": "code",
      "source": [
        "#30\n",
        "n = input()\n",
        "hoa = 0\n",
        "thuong = 0\n",
        "so = 0\n",
        "\n",
        "for i in n:\n",
        "  if i >= \"0\" and i <= \"9\":\n",
        "    so += 1\n",
        "    continue\n",
        "  if i == i.upper():\n",
        "    hoa += 1\n",
        "  if i == i.lower():\n",
        "    thuong += 1\n",
        "print(f\"{hoa} {thuong} {so}\")"
      ],
      "metadata": {
        "colab": {
          "base_uri": "https://localhost:8080/"
        },
        "id": "F_nd4Zw94Jgx",
        "outputId": "d938e64b-1b8b-462e-df3b-6c4f21c03ea9"
      },
      "execution_count": 6,
      "outputs": [
        {
          "output_type": "stream",
          "name": "stdout",
          "text": [
            "aduUM23\n",
            "2 3 2\n"
          ]
        }
      ]
    },
    {
      "cell_type": "code",
      "source": [
        "#31\n",
        "n = input()\n",
        "ans = 0\n",
        "\n",
        "for i in n:\n",
        "  if i >= \"0\" and i <= \"9\":\n",
        "    ans += int(i)\n",
        "\n",
        "print(ans)"
      ],
      "metadata": {
        "colab": {
          "base_uri": "https://localhost:8080/"
        },
        "id": "vAQDxDv-4phq",
        "outputId": "d5f7272d-993c-4fbc-be1b-52be71625371"
      },
      "execution_count": 13,
      "outputs": [
        {
          "output_type": "stream",
          "name": "stdout",
          "text": [
            "d\n",
            "0\n"
          ]
        }
      ]
    },
    {
      "cell_type": "code",
      "source": [
        "#32\n",
        "n = input()\n",
        "hoa = 0\n",
        "thuong = 0\n",
        "so = 0\n",
        "db = 0\n",
        "for i in n:\n",
        "  if i >= \"0\" and i <= \"9\":\n",
        "    so += 1\n",
        "  if i >= \"A\" and i <= \"Z\":\n",
        "    hoa += 1\n",
        "  if i >= \"a\" and i <= \"z\":\n",
        "    thuong += 1\n",
        "\n",
        "db = len(n) - so - hoa - thuong\n",
        "print(f\"{hoa} {thuong} {so} {db}\")\n",
        "if hoa >= 1 and thuong >= 1 and so >= 1 and len(n) >= 6 and db >= 1:\n",
        "  print(\"mk qua manh\")\n",
        "else:\n",
        "  print(\"mk qua ga\")"
      ],
      "metadata": {
        "colab": {
          "base_uri": "https://localhost:8080/"
        },
        "id": "qv9if66r41Z1",
        "outputId": "2a201a89-8f41-4cc7-c57e-e59345ccd58d"
      },
      "execution_count": 16,
      "outputs": [
        {
          "output_type": "stream",
          "name": "stdout",
          "text": [
            "AD2dda\n",
            "2 3 1 0\n",
            "mk qua ga\n"
          ]
        }
      ]
    },
    {
      "cell_type": "code",
      "source": [
        "#33\n",
        "n = input()\n",
        "ans = \"\"\n",
        "cnt = 0\n",
        "for i in range(len(n) - 1, 0, -1):\n",
        "  ans += n[i]\n",
        "  cnt += 1\n",
        "  if cnt % 3 == 0:\n",
        "    ans += \",\"\n",
        "ans += n[0]\n",
        "print(ans[::-1])\n"
      ],
      "metadata": {
        "colab": {
          "base_uri": "https://localhost:8080/"
        },
        "id": "yoYMQM546GeU",
        "outputId": "52792924-324c-4a94-9004-2249ba54c33a"
      },
      "execution_count": 33,
      "outputs": [
        {
          "output_type": "stream",
          "name": "stdout",
          "text": [
            "219832183921893\n",
            "219,832,183,921,893\n"
          ]
        }
      ]
    },
    {
      "cell_type": "code",
      "source": [
        "#34\n",
        "a = input()\n",
        "b = input()\n",
        "m = a.split()\n",
        "n = b.split()\n",
        "\n",
        "my_dict = {}\n",
        "for i in n:\n",
        "  my_dict[i] = 1\n",
        "\n",
        "for i in m:\n",
        "  if i not in my_dict:\n",
        "    print(i, end = \" \")"
      ],
      "metadata": {
        "colab": {
          "base_uri": "https://localhost:8080/"
        },
        "id": "NoWJp3aK435m",
        "outputId": "45cc3c0e-7f7e-4de8-98e3-29f38bfeb0de"
      },
      "execution_count": 37,
      "outputs": [
        {
          "output_type": "stream",
          "name": "stdout",
          "text": [
            "khong duoc chep code\n",
            "duoc\n",
            "khong chep code "
          ]
        }
      ]
    }
  ]
}