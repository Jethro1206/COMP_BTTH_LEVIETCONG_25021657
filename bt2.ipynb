{
  "nbformat": 4,
  "nbformat_minor": 0,
  "metadata": {
    "colab": {
      "provenance": []
    },
    "kernelspec": {
      "name": "python3",
      "display_name": "Python 3"
    },
    "language_info": {
      "name": "python"
    }
  },
  "cells": [
    {
      "cell_type": "code",
      "execution_count": null,
      "metadata": {
        "colab": {
          "base_uri": "https://localhost:8080/"
        },
        "id": "GDKH2o_KN21G",
        "outputId": "b4c2d1b2-aad6-4e2b-8cd6-17da65c0b191"
      },
      "outputs": [
        {
          "output_type": "stream",
          "name": "stdout",
          "text": [
            "5\n",
            "10\n"
          ]
        }
      ],
      "source": [
        "n = int(input())\n",
        "print(n * 2)"
      ]
    },
    {
      "cell_type": "code",
      "source": [
        "a, b = map(float, input().split())\n",
        "pi = 3.14\n",
        "ans = a * b - min(a / 2, b / 2) * min(a / 2, b / 2) * pi\n",
        "print(round(ans, 2))"
      ],
      "metadata": {
        "colab": {
          "base_uri": "https://localhost:8080/"
        },
        "id": "6z3o12JdOJz6",
        "outputId": "6cf55cfb-4f21-4c3d-adc9-56982bffad11"
      },
      "execution_count": null,
      "outputs": [
        {
          "output_type": "stream",
          "name": "stdout",
          "text": [
            "2 3\n",
            "2.86\n"
          ]
        }
      ]
    },
    {
      "cell_type": "code",
      "source": [
        "a = input()\n",
        "if a != a.upper():\n",
        "  print(a.upper())\n",
        "else:\n",
        "  print(a.lower())"
      ],
      "metadata": {
        "colab": {
          "base_uri": "https://localhost:8080/"
        },
        "id": "11B8vYuLPrg9",
        "outputId": "af3c9e65-d8b7-4e7b-c6d4-d02f90209aa2"
      },
      "execution_count": null,
      "outputs": [
        {
          "output_type": "stream",
          "name": "stdout",
          "text": [
            "A\n",
            "a\n"
          ]
        }
      ]
    },
    {
      "cell_type": "code",
      "source": [
        "a = input()\n",
        "\n",
        "if ((a >= \"a\" and a <= \"z\") or (a >= \"A\" and a <= \"Z\")):\n",
        "  print(f\"{a} la ki tu alphabet\")\n",
        "else:\n",
        "  print(f\"{a} khong phai la alphabet\")"
      ],
      "metadata": {
        "colab": {
          "base_uri": "https://localhost:8080/"
        },
        "id": "0Rf-AtFBP38j",
        "outputId": "eacf74d6-d84d-4ae5-f3e5-44d29adf643d"
      },
      "execution_count": null,
      "outputs": [
        {
          "output_type": "stream",
          "name": "stdout",
          "text": [
            "a\n",
            "a la ki tu alphabet\n"
          ]
        }
      ]
    },
    {
      "cell_type": "code",
      "source": [
        "a = input()\n",
        "a = a.lower()\n",
        "if a != \"a\":\n",
        "  print(chr(ord(a) - 1))\n",
        "else:\n",
        "  print(\"z\")"
      ],
      "metadata": {
        "colab": {
          "base_uri": "https://localhost:8080/"
        },
        "id": "4KnF7eucQWjW",
        "outputId": "fec5516f-b5f1-4c94-d6cc-fe96c2d04ad7"
      },
      "execution_count": null,
      "outputs": [
        {
          "output_type": "stream",
          "name": "stdout",
          "text": [
            "h\n",
            "g\n"
          ]
        }
      ]
    },
    {
      "cell_type": "code",
      "source": [
        "import math\n",
        "a, b, c = map(float, input().split())\n",
        "p = (a + b + c) / 2 #√[p(p - a)(p - b)(p - c)]\n",
        "if b + c > a and a + b > c and a + c > b:\n",
        "  print(round(math.sqrt(p * (p - a) * (p - b) * (p - c)), 1))\n",
        "else:\n",
        "  print(\"Khong phai 3 canh tam giac\")"
      ],
      "metadata": {
        "colab": {
          "base_uri": "https://localhost:8080/"
        },
        "id": "Bosfw-woQ2Bh",
        "outputId": "d73797d7-a59d-42e2-f652-f0a32946957c"
      },
      "execution_count": null,
      "outputs": [
        {
          "output_type": "stream",
          "name": "stdout",
          "text": [
            "2 4 5\n",
            "3.8\n"
          ]
        }
      ]
    },
    {
      "cell_type": "code",
      "source": [
        "a = input()\n",
        "my_list = []\n",
        "\n",
        "for i in a:\n",
        "  if ((i >= \"a\" and i <= \"z\") or (i >= \"A\" and i <= \"Z\")):\n",
        "    my_list.append(i)\n",
        "print(my_list[4], end = \" \")\n",
        "print(my_list[8], end = \" \")"
      ],
      "metadata": {
        "colab": {
          "base_uri": "https://localhost:8080/",
          "height": 356
        },
        "id": "vXeZ9zdcRuyK",
        "outputId": "b4b87058-f283-4f7b-dc1a-522d164d0aa2"
      },
      "execution_count": null,
    },
    {
      "cell_type": "code",
      "source": [
        "name = input(\"Ten chu ho: \")\n",
        "previous_ = int(input(\"Chi so thang truoc: \"))\n",
        "cur = int(input(\"Chi so thang nay: \"))\n",
        "\n",
        "p = cur - previous_\n",
        "ans = 0\n",
        "ranges = [(1, 50, 1984), (51, 100, 2050), (101, 200, 2380), (201, 300, 2998), (301, 400, 3350), (401, -1, 3460)]\n",
        "\n",
        "for i, j, k in ranges:\n",
        "    if j == -1:\n",
        "      ans += p * k * 1.08\n",
        "      break\n",
        "    if p >= (j - i + 1):\n",
        "      ans += ((j - i + 1) * k * 1.08)\n",
        "      p -= (j - i + 1)\n",
        "    else:\n",
        "      ans += (p * k * 1.08)\n",
        "      break\n",
        "      p = -1\n",
        "\n",
        "print(int(ans))\n",
        "\n"
      ],
      "metadata": {
        "colab": {
          "base_uri": "https://localhost:8080/"
        },
        "id": "5Ds85MTWSQHU",
        "outputId": "ea6a51bc-39d0-4e35-fc7f-0ac2b39250fa"
      },
      "execution_count": null,
      "outputs": [
        {
          "output_type": "stream",
          "name": "stdout",
          "text": [
            "Ten chu ho: tuanngu\n",
            "Chi so thang truoc: 2097\n",
            "Chi so thang nay: 2278\n",
            "426038\n"
          ]
        }
      ]
    },
    {
      "cell_type": "code",
      "source": [
        "a = int(input())\n",
        "ans = [\"so chan\", \"so le\"]\n",
        "print(ans[a % 2])"
      ],
      "metadata": {
        "colab": {
          "base_uri": "https://localhost:8080/"
        },
        "id": "MK_w4pfbX6Av",
        "outputId": "4e07cdde-7a6b-4c0f-996a-586f4eb2f1df"
      },
      "execution_count": null,
      "outputs": [
        {
          "output_type": "stream",
          "name": "stdout",
          "text": [
            "7\n",
            "so le\n"
          ]
        }
      ]
    },
    {
      "cell_type": "code",
      "source": [
        "a = int(input())\n",
        "if a % 10 == 5:\n",
        "  print(\"True\")\n",
        "else:\n",
        "  print(\"False\")"
      ],
      "metadata": {
        "colab": {
          "base_uri": "https://localhost:8080/"
        },
        "id": "O-gWGR8tYV1w",
        "outputId": "049d2519-8dbd-467e-ac21-ad909378a9b0"
      },
      "execution_count": null,
      "outputs": [
        {
          "output_type": "stream",
          "name": "stdout",
          "text": [
            "2839\n",
            "False\n"
          ]
        }
      ]
    },
    {
      "cell_type": "code",
      "source": [
        "a = int(input())\n",
        "if a % 15 == 0:\n",
        "  print(\"True\")\n",
        "else:\n",
        "  print(\"False\")"
      ],
      "metadata": {
        "colab": {
          "base_uri": "https://localhost:8080/"
        },
        "id": "lwWhGvRyYmsx",
        "outputId": "576f77e0-62e4-4e5e-bab6-3c1f04f58e6a"
      },
      "execution_count": null,
      "outputs": [
        {
          "output_type": "stream",
          "name": "stdout",
          "text": [
            "15\n",
            "True\n"
          ]
        }
      ]
    },
    {
      "cell_type": "code",
      "source": [
        "a = int(input())\n",
        "if 2025 - a >= 18:\n",
        "  print(\"du tuoi\")\n",
        "else:\n",
        "  print(\"ko du tuoi\")"
      ],
      "metadata": {
        "colab": {
          "base_uri": "https://localhost:8080/"
        },
        "id": "LMkI_S3NZiX5",
        "outputId": "51f3911f-9722-4d8b-f91c-f7c6426db72c"
      },
      "execution_count": null,
      "outputs": [
        {
          "output_type": "stream",
          "name": "stdout",
          "text": [
            "2007\n",
            "du tuoi\n"
          ]
        }
      ]
    },
    {
      "cell_type": "code",
      "source": [
        "a, b = map(int, input().split())\n",
        "if a == b:\n",
        "  print(\"hai so bang nhau\")\n",
        "  exit(0)\n",
        "print(max(a,b))"
      ],
      "metadata": {
        "id": "7EqU2BgSZx3t"
      },
      "execution_count": null,
      "outputs": []
    },
    {
      "cell_type": "code",
      "source": [
        "print(\"HI\")"
      ],
      "metadata": {
        "id": "q0ETxozDXabo"
      },
      "execution_count": null,
      "outputs": []
    }
  ]
}
