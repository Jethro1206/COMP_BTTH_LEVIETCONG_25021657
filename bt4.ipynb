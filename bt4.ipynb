{
  "nbformat": 4,
  "nbformat_minor": 0,
  "metadata": {
    "colab": {
      "provenance": []
    },
    "kernelspec": {
      "name": "python3",
      "display_name": "Python 3"
    },
    "language_info": {
      "name": "python"
    }
  },
  "cells": [
    {
      "cell_type": "code",
      "execution_count": 5,
      "metadata": {
        "colab": {
          "base_uri": "https://localhost:8080/"
        },
        "id": "4rB7gaHr2rce",
        "outputId": "9e61c383-7cd3-4d88-f0b0-e771076c580e"
      },
      "outputs": [
        {
          "output_type": "stream",
          "name": "stdout",
          "text": [
            "232\n",
            "144\n"
          ]
        }
      ],
      "source": [
        "n = int(input())\n",
        "\n",
        "x = 1\n",
        "y = 1\n",
        "z = 2\n",
        "\n",
        "while x + y <= n:\n",
        "    z = x + y\n",
        "    x, y = y, z\n",
        "print(z)\n",
        ""
      ]
    },
    {
      "cell_type": "code",
      "source": [
        "n = input()\n",
        "cnt = 0\n",
        "\n",
        "for i in n:\n",
        "  if i == \" \":\n",
        "    cnt += 1\n",
        "print(cnt + 1)"
      ],
      "metadata": {
        "colab": {
          "base_uri": "https://localhost:8080/"
        },
        "id": "0TC7y9Xs3eh_",
        "outputId": "912f08a9-63c4-408a-f12f-1ddf50d3fe5e"
      },
      "execution_count": 8,
      "outputs": [
        {
          "output_type": "stream",
          "name": "stdout",
          "text": [
            "um ba la\n",
            "3\n"
          ]
        }
      ]
    },
    {
      "cell_type": "code",
      "source": [
        "n = input()\n",
        "ans = \"\"\n",
        "\n",
        "for i in n:\n",
        "  if i == \" \":\n",
        "    print(ans)\n",
        "    break\n",
        "  ans += i"
      ],
      "metadata": {
        "colab": {
          "base_uri": "https://localhost:8080/"
        },
        "id": "EA92Luny3uk1",
        "outputId": "0ad2543c-6fc1-4c94-f29c-d29c0e5c13d8"
      },
      "execution_count": 2,
      "outputs": [
        {
          "output_type": "stream",
          "name": "stdout",
          "text": [
            "oh mai got\n",
            "oh\n"
          ]
        }
      ]
    },
    {
      "cell_type": "code",
      "source": [
        "a, b, c = map(int, input().split())\n",
        "print(a + b + c)"
      ],
      "metadata": {
        "colab": {
          "base_uri": "https://localhost:8080/"
        },
        "id": "ORUBNT7E4DZw",
        "outputId": "e609b04f-140f-4b54-eb71-2a847de2b85b"
      },
      "execution_count": 3,
      "outputs": [
        {
          "output_type": "stream",
          "name": "stdout",
          "text": [
            "3 12 15\n",
            "30\n"
          ]
        }
      ]
    },
    {
      "cell_type": "code",
      "source": [
        "n = input()\n",
        "hoa = 0\n",
        "thuong = 0\n",
        "so = 0\n",
        "\n",
        "for i in n:\n",
        "  if i >= \"0\" and i <= \"9\":\n",
        "    so += 1\n",
        "    continue\n",
        "  if i == i.upper():\n",
        "    hoa += 1\n",
        "  if i == i.lower():\n",
        "    thuong += 1\n",
        "print(f\"{hoa} {thuong} {so}\")"
      ],
      "metadata": {
        "colab": {
          "base_uri": "https://localhost:8080/"
        },
        "id": "F_nd4Zw94Jgx",
        "outputId": "d938e64b-1b8b-462e-df3b-6c4f21c03ea9"
      },
      "execution_count": 6,
      "outputs": [
        {
          "output_type": "stream",
          "name": "stdout",
          "text": [
            "aduUM23\n",
            "2 3 2\n"
          ]
        }
      ]
    },
    {
      "cell_type": "code",
      "source": [
        "n = input()\n",
        "ans = 0\n",
        "\n",
        "for i in n:\n",
        "  if i >= \"0\" and i <= \"9\":\n",
        "    ans += int(i)\n",
        "\n",
        "print(ans)"
      ],
      "metadata": {
        "colab": {
          "base_uri": "https://localhost:8080/"
        },
        "id": "vAQDxDv-4phq",
        "outputId": "d5f7272d-993c-4fbc-be1b-52be71625371"
      },
      "execution_count": 13,
      "outputs": [
        {
          "output_type": "stream",
          "name": "stdout",
          "text": [
            "d\n",
            "0\n"
          ]
        }
      ]
    },
    {
      "cell_type": "code",
      "source": [
        "n = input()\n",
        "hoa = 0\n",
        "thuong = 0\n",
        "so = 0\n",
        "db = 0\n",
        "for i in n:\n",
        "  if i >= \"0\" and i <= \"9\":\n",
        "    so += 1\n",
        "  if i >= \"A\" and i <= \"Z\":\n",
        "    hoa += 1\n",
        "  if i >= \"a\" and i <= \"z\":\n",
        "    thuong += 1\n",
        "\n",
        "db = len(n) - so - hoa - thuong\n",
        "print(f\"{hoa} {thuong} {so} {db}\")\n",
        "if hoa >= 1 and thuong >= 1 and so >= 1 and len(n) >= 6 and db >= 1:\n",
        "  print(\"mk qua manh\")\n",
        "else:\n",
        "  print(\"mk qua ga\")"
      ],
      "metadata": {
        "colab": {
          "base_uri": "https://localhost:8080/"
        },
        "id": "qv9if66r41Z1",
        "outputId": "2a201a89-8f41-4cc7-c57e-e59345ccd58d"
      },
      "execution_count": 16,
      "outputs": [
        {
          "output_type": "stream",
          "name": "stdout",
          "text": [
            "AD2dda\n",
            "2 3 1 0\n",
            "mk qua ga\n"
          ]
        }
      ]
    },
    {
      "cell_type": "code",
      "source": [
        "n = input()\n",
        "ans = \"\"\n",
        "cnt = 0\n",
        "for i in range(len(n) - 1, 0, -1):\n",
        "  ans += n[i]\n",
        "  cnt += 1\n",
        "  if cnt % 3 == 0:\n",
        "    ans += \",\"\n",
        "ans += n[0]\n",
        "print(ans[::-1])\n"
      ],
      "metadata": {
        "colab": {
          "base_uri": "https://localhost:8080/"
        },
        "id": "yoYMQM546GeU",
        "outputId": "52792924-324c-4a94-9004-2249ba54c33a"
      },
      "execution_count": 33,
      "outputs": [
        {
          "output_type": "stream",
          "name": "stdout",
          "text": [
            "219832183921893\n",
            "219,832,183,921,893\n"
          ]
        }
      ]
    },
    {
      "cell_type": "code",
      "source": [
        "a = input()\n",
        "b = input()\n",
        "m = a.split()\n",
        "n = b.split()\n",
        "\n",
        "my_dict = {}\n",
        "for i in n:\n",
        "  my_dict[i] = 1\n",
        "\n",
        "for i in m:\n",
        "  if i not in my_dict:\n",
        "    print(i, end = \" \")"
      ],
      "metadata": {
        "colab": {
          "base_uri": "https://localhost:8080/"
        },
        "id": "NoWJp3aK435m",
        "outputId": "45cc3c0e-7f7e-4de8-98e3-29f38bfeb0de"
      },
      "execution_count": 37,
      "outputs": [
        {
          "output_type": "stream",
          "name": "stdout",
          "text": [
            "khong duoc chep code\n",
            "duoc\n",
            "khong chep code "
          ]
        }
      ]
    }
  ]
}