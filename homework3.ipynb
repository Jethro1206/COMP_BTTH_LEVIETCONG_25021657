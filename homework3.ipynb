{
  "nbformat": 4,
  "nbformat_minor": 0,
  "metadata": {
    "colab": {
      "provenance": []
    },
    "kernelspec": {
      "name": "python3",
      "display_name": "Python 3"
    },
    "language_info": {
      "name": "python"
    }
  },
  "cells": [
    {
      "cell_type": "code",
      "execution_count": 3,
      "metadata": {
        "colab": {
          "base_uri": "https://localhost:8080/"
        },
        "id": "48B348hYpWVW",
        "outputId": "f747dc82-d9b6-497c-9770-3df88bb7ae1d"
      },
      "outputs": [
        {
          "output_type": "stream",
          "name": "stdout",
          "text": [
            "1234\n",
            "4321\n"
          ]
        }
      ],
      "source": [
        "n = input()\n",
        "ans = \"\"\n",
        "for i in n:\n",
        "  ans = i + ans\n",
        "print(ans)"
      ]
    },
    {
      "cell_type": "code",
      "source": [
        "a, b = map(int, input().split())\n",
        "a = a ^ b\n",
        "b = a ^ b\n",
        "a = a ^ b\n",
        "print(a, end = \" \")\n",
        "print(b)"
      ],
      "metadata": {
        "colab": {
          "base_uri": "https://localhost:8080/"
        },
        "id": "NFP1gqtlp04F",
        "outputId": "17b12463-d59e-43aa-d192-baa7b2c144c6"
      },
      "execution_count": 12,
      "outputs": [
        {
          "output_type": "stream",
          "name": "stdout",
          "text": [
            "12313 32131\n",
            "32131 12313\n"
          ]
        }
      ]
    },
    {
      "cell_type": "code",
      "source": [
        "n = int(input())\n",
        "if n & (n - 1) == 0:\n",
        "  print(\"True\")\n",
        "else:\n",
        "  print(\"False\")"
      ],
      "metadata": {
        "colab": {
          "base_uri": "https://localhost:8080/"
        },
        "id": "m5d59JZFqYkZ",
        "outputId": "e64da442-90ec-42d8-897b-6ab3966b4199"
      },
      "execution_count": 9,
      "outputs": [
        {
          "output_type": "stream",
          "name": "stdout",
          "text": [
            "33554432\n",
            "True\n"
          ]
        }
      ]
    },
    {
      "cell_type": "code",
      "source": [
        "a, b = map(int, input().split())\n",
        "print(a // b)"
      ],
      "metadata": {
        "colab": {
          "base_uri": "https://localhost:8080/"
        },
        "id": "WwPgyPqIrh3N",
        "outputId": "917c0799-bef1-4fe0-9434-a16d2c40a22b"
      },
      "execution_count": 16,
      "outputs": [
        {
          "output_type": "stream",
          "name": "stdout",
          "text": [
            "2323 45\n",
            "51\n"
          ]
        }
      ]
    },
    {
      "cell_type": "code",
      "source": [
        "a, b = map(int, input().split())\n",
        "if a % b == 0:\n",
        "  print(a // b)\n",
        "else:\n",
        "  print(a // b + 1)"
      ],
      "metadata": {
        "colab": {
          "base_uri": "https://localhost:8080/"
        },
        "id": "HQRC2xKPsCtU",
        "outputId": "470d9e41-f99e-4b94-b6fb-039275280c1e"
      },
      "execution_count": 20,
      "outputs": [
        {
          "output_type": "stream",
          "name": "stdout",
          "text": [
            "67426 11\n",
            "6130\n"
          ]
        }
      ]
    },
    {
      "cell_type": "code",
      "source": [
        "EO = [\"Even\", \"Odd\"]\n",
        "n = int(input())\n",
        "print(EO[n % 2])"
      ],
      "metadata": {
        "colab": {
          "base_uri": "https://localhost:8080/"
        },
        "id": "IpYTvZs_sUfs",
        "outputId": "87d18a96-bf3c-445c-d735-d26c471b724c"
      },
      "execution_count": 24,
      "outputs": [
        {
          "output_type": "stream",
          "name": "stdout",
          "text": [
            "22\n",
            "Even\n"
          ]
        }
      ]
    },
    {
      "cell_type": "code",
      "source": [
        "a, b = map(int, input().split())\n",
        "\n",
        "if a < 0 and b < 0:\n",
        "  print(\"Yes\")\n",
        "else:\n",
        "  print(\"No\")"
      ],
      "metadata": {
        "colab": {
          "base_uri": "https://localhost:8080/"
        },
        "id": "-Fk_CZGssj6l",
        "outputId": "999f6aa3-d0d9-44df-e896-dffc196ed7f3"
      },
      "execution_count": 29,
      "outputs": [
        {
          "output_type": "stream",
          "name": "stdout",
          "text": [
            "-3 -3\n",
            "Yes\n"
          ]
        }
      ]
    },
    {
      "cell_type": "code",
      "source": [
        "a = input()\n",
        "b = input()\n",
        "if len(a) > len(b):\n",
        "  print(\"True\")\n",
        "else:\n",
        "  print(\"False\")"
      ],
      "metadata": {
        "colab": {
          "base_uri": "https://localhost:8080/"
        },
        "id": "jrAzx1Vtsxd4",
        "outputId": "f2aa6220-0dca-4ff1-bba1-14d53d32a7e5"
      },
      "execution_count": 32,
      "outputs": [
        {
          "output_type": "stream",
          "name": "stdout",
          "text": [
            "doga da\n",
            "True\n"
          ]
        }
      ]
    },
    {
      "cell_type": "code",
      "source": [
        "a, b, c = map(int, input().split())\n",
        "if b + c > a and a + b > c and a + c > b:\n",
        "  print(\"Yes\")\n",
        "else:\n",
        "  print(\"No\")"
      ],
      "metadata": {
        "colab": {
          "base_uri": "https://localhost:8080/"
        },
        "id": "4Me7lu8KtHzi",
        "outputId": "0b001958-e50d-4edc-ec7d-9cd21fa6adaa"
      },
      "execution_count": 35,
      "outputs": [
        {
          "output_type": "stream",
          "name": "stdout",
          "text": [
            "3 2 1\n",
            "No\n"
          ]
        }
      ]
    },
    {
      "cell_type": "code",
      "source": [
        "a, b, c, d = map(int, input().split())\n",
        "print(max(a, b, c, d))"
      ],
      "metadata": {
        "colab": {
          "base_uri": "https://localhost:8080/"
        },
        "id": "Pe9gBJTItpYT",
        "outputId": "11fc27fc-c8b9-46c5-81bf-f1c245c8950a"
      },
      "execution_count": 37,
      "outputs": [
        {
          "output_type": "stream",
          "name": "stdout",
          "text": [
            "1 2 3 4\n",
            "4\n"
          ]
        }
      ]
    },
    {
      "cell_type": "code",
      "source": [
        "a, b, c = map(int, input().split())\n",
        "if b + c > a and a + b > c and a + c > b:\n",
        "  if a == b and b == c and a == c:\n",
        "    print(\"Tam giac deu\")\n",
        "  elif (a == b or b == c or a == c):\n",
        "    print(\"Tam giac can\")\n",
        "  else:\n",
        "    print(\"Tam giac thuong\")\n",
        "else:\n",
        "  print(\"Khong phai tam giac\")"
      ],
      "metadata": {
        "colab": {
          "base_uri": "https://localhost:8080/"
        },
        "id": "Zkl49wdptydH",
        "outputId": "822538f1-421b-4866-b155-0780b10c32f9"
      },
      "execution_count": 40,
      "outputs": [
        {
          "output_type": "stream",
          "name": "stdout",
          "text": [
            "3 3 5\n",
            "Tam giac can\n"
          ]
        }
      ]
    },
    {
      "cell_type": "code",
      "source": [
        "n = int(input())\n",
        "if ((n % 4 == 0 and n % 100 != 0) or n % 400 == 0):\n",
        "  print(\"Yes\")\n",
        "else:\n",
        "  print(\"No\")"
      ],
      "metadata": {
        "colab": {
          "base_uri": "https://localhost:8080/"
        },
        "id": "295BX53svl0e",
        "outputId": "590d699c-55fc-4a01-d6a3-51b7a849175b"
      },
      "execution_count": 44,
      "outputs": [
        {
          "output_type": "stream",
          "name": "stdout",
          "text": [
            "2025\n",
            "No\n"
          ]
        }
      ]
    },
    {
      "cell_type": "code",
      "source": [
        "p = int(input())\n",
        "ans = 0\n",
        "ranges = [(1, 50, 1500), (51, 100, 2000), (101, -1, 3000)]\n",
        "\n",
        "for i, j, k in ranges:\n",
        "    if j == -1:\n",
        "      ans += p * k\n",
        "      break\n",
        "    if p >= (j - i + 1):\n",
        "      ans += (j - i + 1) * k\n",
        "      p -= (j - i + 1)\n",
        "    else:\n",
        "      ans += p * k\n",
        "      break\n",
        "      p = -1\n",
        "\n",
        "print(int(ans))\n",
        "\n"
      ],
      "metadata": {
        "colab": {
          "base_uri": "https://localhost:8080/"
        },
        "id": "PzrxG1Ctv-k3",
        "outputId": "cfe8bf8c-b76a-4fcd-cd93-d91e71e76421"
      },
      "execution_count": 47,
      "outputs": [
        {
          "output_type": "stream",
          "name": "stdout",
          "text": [
            "100\n",
            "175000\n"
          ]
        }
      ]
    },
    {
      "cell_type": "code",
      "source": [
        "a, b = map(float, input().split())\n",
        "if a == 0 and b != 0:\n",
        "  print(\"Vo nghiem\")\n",
        "elif a == 0 and b == 0:\n",
        "  print(\"Vo so nghiem\")\n",
        "else:\n",
        "  print(round(-b / a, 2))"
      ],
      "metadata": {
        "colab": {
          "base_uri": "https://localhost:8080/"
        },
        "id": "IQvkMAq2wR8R",
        "outputId": "fe8b39c8-7998-47dc-d0be-fe4980a049d8"
      },
      "execution_count": 57,
      "outputs": [
        {
          "output_type": "stream",
          "name": "stdout",
          "text": [
            "0.23 99.1\n",
            "-430.87\n"
          ]
        }
      ]
    },
    {
      "cell_type": "code",
      "source": [
        "n = float(input())\n",
        "if n >= 8.0:\n",
        "  print(\"Gioi\")\n",
        "elif n >= 6.5:\n",
        "  print(\"Kha\")\n",
        "elif n >= 5.0:\n",
        "  print(\"Trung binh\")\n",
        "else:\n",
        "  print(\"Yeu\")"
      ],
      "metadata": {
        "colab": {
          "base_uri": "https://localhost:8080/"
        },
        "id": "oLYwnutlxQlF",
        "outputId": "3731f111-ec14-425c-f838-becf96c7795b"
      },
      "execution_count": 59,
      "outputs": [
        {
          "output_type": "stream",
          "name": "stdout",
          "text": [
            "8.6\n",
            "Gioi\n"
          ]
        }
      ]
    }
  ]
}